{
 "cells": [
  {
   "cell_type": "markdown",
   "id": "b3e51961",
   "metadata": {},
   "source": [
    "# 1. Are pets an adequate substitute for humans in helping prevent feelings of loneliness?\n",
    "\n",
    "\n",
    "### Variables: \n",
    "a. Number of pets and type of pet (GEO_housing_live_with_dogs, GEO_housing_live_with_cats, GEO_housing_live_with_birds)\n",
    "\n",
    "b. Frequency of feelings of loneliness (LONELY_dejong_emotional_social_loneliness_scale_miss)\n",
    "\n",
    "c. Living with roommate (GEO_housing_live_with_roommate)\n",
    "\n",
    "### Visualizations/Analysis\n",
    "\n",
    "A KDE would be a good visualization to see how loneliness (scale 1-10) differs depending on who/what the person lives with. A seperate KDE can be done for each graph, and the x-axis will be the feeling of loneliness, and y-axis the frequency. For analysis, take the median loneliness reported for each group and perform hypothesis testing to determine whether there are significant differences between the different groups at the 95% confidence level. \n",
    "\n",
    "### Hypothesis/Possible Results\n",
    "\n",
    "The null hypothesis is that there is no significant difference, while the alternative hypothesis is that there is a significant difference (between having a roommate and having various pets). \n",
    "If no groups have any significant differences at 95% confidence level, then who/what you live with doesn't matter. It can be said that any of the three animals is sufficient for reducing feelings of loneliness for an individual who doesn’t have a roommate. If a difference is found only for some animals, then only those animals are not sufficient in reducing feelings of loneliness. \n",
    "\n",
    "### Assumption\n",
    "\n",
    "Roommates were chosen as a sort of baseline because the individual often doesn’t have a significant connection to the roommate, rendering it a baseline than a partner/family member whom an individual would likely feel a great connection to + spend a lot of time with. \n"
   ]
  },
  {
   "cell_type": "markdown",
   "id": "34b62b5d",
   "metadata": {},
   "source": [
    "# 2. Does an individual’s perceived relatability with those around them impact their likelihood of approaching people/making friends?\n",
    "\n",
    "### Variables: \n",
    "\n",
    "a. Feeling of relatability (LONELY_existential_loneliness_scale_outlook)\n",
    "\n",
    "b. Likelihood of approaching new people (PSYCH_dang_liu_social_self_efficacy_scale_conversatoin)\n",
    "\n",
    "### Visualizations/Analysis\n",
    "\n",
    "Comparing feelings of relatability with likelihood of approaching new people using a linear regression to see if an individual’s own perceived relatability impacts their willingness to reach out to others. Then, plotting a visualization of the linear regression and data points to see the strength of the relationship. The linear regression will help determine the correlation between the two variables (positive or negative) and the strength of this correlation. Using bootstrapping, a 95% confidence interval can be generated for the slope coefficient.\n",
    "\n",
    "### Hypothesis/Possible Results\n",
    "\n",
    "The null hypothesis would be that there is no signficant correlation between relatability and likelihood of approaching new people, while the alternative hypothesis would be that there is a significant correlation between relatability and likelihood of approaching new people.\n",
    "\n",
    "### Assumptions\n",
    "\n",
    "The correlation between the variables must be sufficiently strong for analysis to be carried out. These will be verified before performing analysis.\n"
   ]
  },
  {
   "cell_type": "markdown",
   "id": "09aa4c68",
   "metadata": {},
   "source": [
    "# 3. Does significant in-person human interaction cause overall greater self-percieved happiness when compared with online human interaction?\n",
    "\n",
    "### Variables:\n",
    "a. Online interaction frequency (CONNECTION_activities_computer_games_p3m (In the PAST THREE MONTH)\n",
    "\n",
    "b. In-person interaction frequency (CONNECTION_activities_coffee_p3m)\n",
    "\n",
    "c. Perceived happiness (WELLNESS_subjective_happiness_scale_ happy)\n",
    "\n",
    "### Visualizations/Analysis\n",
    "\n",
    "First, looking at a visualization of the linear regression of online interaction frequency plotted with perceived happiness (and the same thing for in-person interaction frequency and perceived happiness) could help determine if there were any significant differences visually. Then analysis can be done by comparing the slope of the line given by the linear regression of online interaction frequency x perceived happiness and in-person interaction frequency x perceived happiness (and looking at the r-value to see the strength of the relationship). Unpaired (because an individual in one set doesn't correlate to another individual in the other set) hypothesis testing can be done on these two slope co-efficients to determine whether they are different at the 95% confidence level. \n",
    "\n",
    "### Hypothesis/Possible Results\n",
    "\n",
    "If hypothesis testing finds that there is no significant difference, then there is no difference on happiness based on these two variables. If there is a difference, then the graph that has a stronger positive trend contains the data that has a higher correlation with happiness. For example, if the graph that compares online interaction frequency with perceived happiness has a steeper, positive slope, then it can be assumed that greater frequency of online human interaction causes greater happiness for an individual (when compared with in-person interaction frequency). This is relevant to the course objectives as it gives insight into how online vs in-person activities can affect an individual’s perceived happiness.\n",
    "\n",
    "### Assumptions\n",
    "\n",
    "In order for this to be a meaningful analysis, at least one of these has to have a positive (or negative) slope, one that isn't strictly flat. This will be easy to visualize at the start with the linear regression visualization graphs. Also, the r-value from the linear regression must indicate a sufficiently strong correlation. "
   ]
  },
  {
   "cell_type": "code",
   "execution_count": null,
   "id": "e92750c4",
   "metadata": {},
   "outputs": [],
   "source": []
  },
  {
   "cell_type": "code",
   "execution_count": null,
   "id": "69f69023",
   "metadata": {},
   "outputs": [],
   "source": []
  },
  {
   "cell_type": "code",
   "execution_count": null,
   "id": "107fb37b",
   "metadata": {},
   "outputs": [],
   "source": []
  }
 ],
 "metadata": {
  "kernelspec": {
   "display_name": "Python 3 (ipykernel)",
   "language": "python",
   "name": "python3"
  },
  "language_info": {
   "codemirror_mode": {
    "name": "ipython",
    "version": 3
   },
   "file_extension": ".py",
   "mimetype": "text/x-python",
   "name": "python",
   "nbconvert_exporter": "python",
   "pygments_lexer": "ipython3",
   "version": "3.11.6"
  }
 },
 "nbformat": 4,
 "nbformat_minor": 5
}
